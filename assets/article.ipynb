{
 "cells": [
  {
   "cell_type": "markdown",
   "metadata": {},
   "source": [
    "# Non-Dominated Sorting"
   ]
  },
  {
   "cell_type": "markdown",
   "metadata": {
    "tags": []
   },
   "source": [
    "## Preamble"
   ]
  },
  {
   "cell_type": "code",
   "execution_count": null,
   "metadata": {},
   "outputs": [],
   "source": [
    "import numpy as np  # for multi-dimensional containers\n",
    "import pandas as pd  # for DataFrames\n",
    "import platypus as plat  # multi-objective optimisation framework\n",
    "import plotly.graph_objects as go  # for data visualisation\n",
    "import plotly.express as px  # for express data visualization"
   ]
  },
  {
   "cell_type": "markdown",
   "metadata": {
    "tags": []
   },
   "source": [
    "## Introduction\n",
    "\n",
    "In this section from the book [Practical Evolutionary Algorithms](https://datacrayon.com/shop/product/practical-evolutionary-algorithms-book/), we're going to take a look at how to use the Platypus framework to apply the non-dominated sorting algorithm to a population of randomly generated solutions. Non-dominated sorting is important during the selection stage of an Evolutionary Algorithm because it allows us to prioritise the selection of solutions based on their dominance relations with respect to the rest of the population. For example, we may wish to only select 25 solutions from a population of 50, with the intention to use these 25 solutions in the variation stage that follows."
   ]
  },
  {
   "cell_type": "markdown",
   "metadata": {},
   "source": [
    "## Non-Dominated Sorting with Platypus\n",
    "\n",
    "Let's define some necessary variables before invoking the Platypus implementation of the non-dominated sorting algorithm. We will use the ZDT1 test function with the number design variables `D=30` throughout this example, and with the population size `N=50`."
   ]
  },
  {
   "cell_type": "code",
   "execution_count": null,
   "metadata": {},
   "outputs": [],
   "source": [
    "problem = plat.ZDT1()\n",
    "D = 30\n",
    "N = 50"
   ]
  },
  {
   "cell_type": "markdown",
   "metadata": {},
   "source": [
    "With these variables defined, we will now move onto generating our initial population. We will be using Platypus `Solution` objects for this, which we will initialise with random problem variables, evaluate, and then append to a list named `solutions`."
   ]
  },
  {
   "cell_type": "code",
   "execution_count": null,
   "metadata": {},
   "outputs": [],
   "source": [
    "solutions = []\n",
    "\n",
    "for i in range(N):\n",
    "    solution = plat.Solution(problem)\n",
    "    solution.variables = np.random.rand(D)\n",
    "    solution.evaluate()\n",
    "    solutions.append(solution)"
   ]
  },
  {
   "cell_type": "markdown",
   "metadata": {},
   "source": [
    "Let's print out the `variables` and `objectives` for the first solution in this list to see what they look like."
   ]
  },
  {
   "cell_type": "code",
   "execution_count": null,
   "metadata": {},
   "outputs": [],
   "source": [
    "print(f\"Design variables: {solutions[0].variables}\")\n",
    "print(f\"Objective values: {solutions[0].objectives}\")"
   ]
  },
  {
   "cell_type": "markdown",
   "metadata": {},
   "source": [
    "{{text_variables_and_objectives}}"
   ]
  },
  {
   "cell_type": "markdown",
   "metadata": {},
   "source": [
    "Now that we have a population of solutions stored in the `solutions` variable, we can pass this into the `Platypus.nondominated_sort()` function that will assign each solution a `rank` parameter, starting at 0 for the first non-dominated front and incrementing for every additional front that is detected."
   ]
  },
  {
   "cell_type": "code",
   "execution_count": null,
   "metadata": {},
   "outputs": [],
   "source": [
    "plat.nondominated_sort(solutions)"
   ]
  },
  {
   "cell_type": "markdown",
   "metadata": {},
   "source": [
    "Let's check to see if the first solution in our `solutions` list has one of these newly calculated `rank` parameters."
   ]
  },
  {
   "cell_type": "code",
   "execution_count": null,
   "metadata": {},
   "outputs": [],
   "source": [
    "solutions[0].rank"
   ]
  },
  {
   "cell_type": "markdown",
   "metadata": {},
   "source": [
    "{{text_solution_rank}}"
   ]
  },
  {
   "cell_type": "markdown",
   "metadata": {},
   "source": [
    "We now have a population of solutions that have been assigned their design variables, their objective values, and their ranks according to the non-dominated sorting algorithm."
   ]
  },
  {
   "cell_type": "markdown",
   "metadata": {},
   "source": [
    "## Visualising the Non-Dominated Fronts\n",
    "\n",
    "It would be useful to visualise these non-dominated fronts, according to their newly assigned ranks, using a scatterplot for further investigation. Before we do this, we will migrate our solution variables from their Platypus data-structure to a DataFrame. We will do this for the simple reason that our visualisation tools, e.g. Plotly, work quite well with the DataFrame format. \n",
    "\n",
    "Let's begin by creating a new DataFrame with the columns `f1`, `f2`, and `front_rank`. `f1` and `f2` will be used to store our objective values for each solution, which is sufficient for the two-objective ZDT1 problem, and `rank_front` will be used to store the non-dominated sorting ranks that were calculated earlier."
   ]
  },
  {
   "cell_type": "code",
   "execution_count": null,
   "metadata": {},
   "outputs": [],
   "source": [
    "solutions_df = pd.DataFrame(index=range(N), columns=[\"f1\", \"f2\", \"front_rank\"])\n",
    "solutions_df.head()"
   ]
  },
  {
   "cell_type": "markdown",
   "metadata": {},
   "source": [
    "{{datatable_solutions_initialised}}"
   ]
  },
  {
   "cell_type": "markdown",
   "metadata": {},
   "source": [
    "We can see that we've also defined an index range that covers the number of solutions in our population, `N=50`. This means we have 50 rows ready, but their values are initialised to `NaN` (Not A Number), which in this case simply indicates missing data.\n",
    "\n",
    "Let's use a loop to iterate through our `solutions` list of 50 solutions and assign the desired values to the corresponding row in our `solutions_df` DataFrame"
   ]
  },
  {
   "cell_type": "code",
   "execution_count": null,
   "metadata": {},
   "outputs": [],
   "source": [
    "for i in range(N):\n",
    "    solutions_df.loc[i].f1 = solutions[i].objectives[0]\n",
    "    solutions_df.loc[i].f2 = solutions[i].objectives[1]\n",
    "    solutions_df.loc[i].front_rank = solutions[i].rank\n",
    "\n",
    "solutions_df"
   ]
  },
  {
   "cell_type": "markdown",
   "metadata": {},
   "source": [
    "{{datatable_solutions_evaluated}}"
   ]
  },
  {
   "cell_type": "markdown",
   "metadata": {},
   "source": [
    "We can see our DataFrame now contains the desired values. We're now ready to go with some visualisation, so let's start with a simple scatterplot for the entire population in the objective space."
   ]
  },
  {
   "cell_type": "code",
   "execution_count": null,
   "metadata": {},
   "outputs": [],
   "source": [
    "fig = go.Figure(layout=dict(xaxis=dict(title=\"f1\"), yaxis=dict(title=\"f2\")))\n",
    "\n",
    "fig.add_scatter(x=solutions_df.f1, y=solutions_df.f2, mode=\"markers\")\n",
    "\n",
    "fig.show()"
   ]
  },
  {
   "cell_type": "markdown",
   "metadata": {},
   "source": [
    "{{plot_objective_space}}"
   ]
  },
  {
   "cell_type": "markdown",
   "metadata": {},
   "source": [
    "This visualisation gives us an idea of how our solutions look in the objective space. However, we can do better and visualise each front using a different colour. This way, we can visually distinguish between the different non-dominated fronts in our population."
   ]
  },
  {
   "cell_type": "markdown",
   "metadata": {},
   "source": [
    "Before producing the visualisation, we may fish to determine the number of fronts found."
   ]
  },
  {
   "cell_type": "code",
   "execution_count": null,
   "metadata": {},
   "outputs": [],
   "source": [
    "solutions_df.front_rank.nunique()"
   ]
  },
  {
   "cell_type": "markdown",
   "metadata": {},
   "source": [
    "{{text_unique_fronts}}"
   ]
  },
  {
   "cell_type": "markdown",
   "metadata": {},
   "source": [
    "We will then need to produce a sorted vector containing the rank of each front."
   ]
  },
  {
   "cell_type": "code",
   "execution_count": null,
   "metadata": {},
   "outputs": [],
   "source": [
    "fronts = sorted(solutions_df.front_rank.unique())\n",
    "print(fronts)"
   ]
  },
  {
   "cell_type": "markdown",
   "metadata": {},
   "source": [
    "{{text_fronts}}"
   ]
  },
  {
   "cell_type": "markdown",
   "metadata": {},
   "source": [
    "With this vector, we can now visualise each front on the same scatterplot, using different colours to distinguish between their ranking. If you click on items in the legend, you can also disable/enable each front to examine them independently."
   ]
  },
  {
   "cell_type": "code",
   "execution_count": null,
   "metadata": {},
   "outputs": [],
   "source": [
    "fig = go.Figure(layout=dict(xaxis=dict(title=\"f1\"), yaxis=dict(title=\"f2\")))\n",
    "\n",
    "for front in fronts:\n",
    "    front_solutions_df = solutions_df.loc[solutions_df.front_rank == front]\n",
    "    fig.add_scatter(\n",
    "        x=front_solutions_df.f1,\n",
    "        y=front_solutions_df.f2,\n",
    "        name=f\"front {front}\",\n",
    "        mode=\"markers\",\n",
    "        marker=dict(color=px.colors.qualitative.Plotly[front]),\n",
    "    )\n",
    "\n",
    "fig.show()"
   ]
  },
  {
   "cell_type": "markdown",
   "metadata": {},
   "source": [
    "{{plot_solutions_ranked}}"
   ]
  },
  {
   "cell_type": "markdown",
   "metadata": {},
   "source": [
    "The above visualising is great and the code we used to generate it gave us some finer control over the order in which they are plotted, the colours, the axis labels, and so on. However, I wanted to also share with you an approach to get a very similar plot using the `plotly.express`. As you can see below, we have achieved a very similar plot in only a single line of code."
   ]
  },
  {
   "cell_type": "code",
   "execution_count": null,
   "metadata": {},
   "outputs": [],
   "source": [
    "px.scatter(solutions_df, x=\"f1\", y=\"f2\", color=\"front_rank\")"
   ]
  },
  {
   "cell_type": "markdown",
   "metadata": {},
   "source": [
    "{{plot_solutions_ranked_px}}"
   ]
  },
  {
   "cell_type": "markdown",
   "metadata": {},
   "source": [
    "## Conclusion"
   ]
  },
  {
   "cell_type": "markdown",
   "metadata": {},
   "source": [
    "In this section, we have demonstrated how we can use a software package such as Platypus to calculate the non-dominated sorting ranks for a population, which is a useful technique in the selection stage of an Evolutionary Algorithm. We then used this information to create a scatterplot that distinguishes between each non-dominated front using different colours for every rank. This is useful when visualising a population either during runtime or after a search has concluded."
   ]
  }
 ],
 "metadata": {
  "kernelspec": {
   "display_name": "Python 3 (ipykernel)",
   "language": "python",
   "name": "python3"
  },
  "language_info": {
   "codemirror_mode": {
    "name": "ipython",
    "version": 3
   },
   "file_extension": ".py",
   "mimetype": "text/x-python",
   "name": "python",
   "nbconvert_exporter": "python",
   "pygments_lexer": "ipython3",
   "version": "3.10.5"
  },
  "nikola": {
   "category": "practical-evolutionary-algorithms",
   "date": "2019-10-18 19:55:47 UTC+01:00",
   "description": "",
   "extra": "yes",
   "link": "",
   "slug": "non-dominated-sorting",
   "tags": "",
   "title": "Non-Dominated Sorting",
   "type": "text"
  },
  "vscode": {
   "interpreter": {
    "hash": "a0a5145e6c304e2a9afaf5b930a2955b950bd4b81fe94f7c42930f43f42762eb"
   }
  }
 },
 "nbformat": 4,
 "nbformat_minor": 4
}
